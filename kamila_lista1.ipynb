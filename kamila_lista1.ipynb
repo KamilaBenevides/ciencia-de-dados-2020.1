{
  "nbformat": 4,
  "nbformat_minor": 0,
  "metadata": {
    "colab": {
      "name": "kamila lista1.ipynb",
      "provenance": [],
      "collapsed_sections": []
    },
    "kernelspec": {
      "name": "python3",
      "display_name": "Python 3"
    },
    "language_info": {
      "name": "python"
    }
  },
  "cells": [
    {
      "cell_type": "markdown",
      "metadata": {
        "id": "Xaj5uOOaHB35"
      },
      "source": [
        "Professor: Bruno Pimentel\n",
        "\n",
        "Aluno: Kamila de Almeida Benevides\n",
        "\n",
        "---\n",
        "\n"
      ]
    },
    {
      "cell_type": "markdown",
      "metadata": {
        "id": "43m6_MNdREaG"
      },
      "source": [
        "Os códigos estão disponíveis no reporitório: [link](https://github.com/KamilaBenevides/ciencia-de-dados-2020.1)"
      ]
    },
    {
      "cell_type": "markdown",
      "metadata": {
        "id": "Xv4y7FTdG-MM"
      },
      "source": [
        "**1) Qual a diferença entre Big Data e Ciência de Dados? (0,5 ponto)**\n",
        "\n",
        "Big Data é um dos recursos usados na área de ciência de dados, especificamente lidando com as tecnologias para coletar, armazenar e pré-processar esses dados. Já a ciência de dados irá usar trabalhar na modelagem desses dados para tomada de decisão.\n"
      ]
    },
    {
      "cell_type": "markdown",
      "metadata": {
        "id": "i_xVSi5LHbnv"
      },
      "source": [
        "**2) De que forma Estatística, Mineração de Dados e Aprendizagem de  Máquina interagem com Ciência de Dados? (1 ponto)**\n",
        "\t\n",
        "Estatística, mineração de dados e aprendizagem de máquina são uma ferramenta da ciência de dados, para analisar, modelar e extrair dados de uma determinada base de dados a fim de obter Insights para possíveis tomadas de decisões.\n"
      ]
    },
    {
      "cell_type": "markdown",
      "metadata": {
        "id": "6DV_lsxPHy5i"
      },
      "source": [
        "**3) Mostre a importância do conhecimento de domínio para o cientista de  dados. (0,5 ponto)**\n",
        "\n",
        "É importante ter o domínio da área onde se vai aplicar os conhecimentos de ciência de dados, para que as soluções possam melhor aplicadas no contexto do problema. Ter um domínio da área onde será aplicada é importante para não encontrar soluções não viáveis.\n",
        "\n"
      ]
    },
    {
      "cell_type": "markdown",
      "metadata": {
        "id": "0mroEKqBINYG"
      },
      "source": [
        "**4) Crie um conjunto de dados com duas variáveis V1 e V2, tal que:**\n",
        " \n",
        "**a) Mediana de V1 < Média de V1 (0,5 ponto)**\n",
        "\n",
        "**b) Mediana de V2 > Média de V2 (0,5 ponto)**\n"
      ]
    },
    {
      "cell_type": "code",
      "metadata": {
        "id": "OOe6QSxjIOcW"
      },
      "source": [
        "#A\n",
        "import numpy as np\n",
        "\n",
        "def mediana(x):\n",
        "    x.sort()\n",
        "    n = len(x)\n",
        "    if n % 2 == 1:\n",
        "        return x[n // 2]\n",
        "    else:\n",
        "        return (x[n // 2 - 1] + x[n // 2]) / 2\n",
        "\n",
        "V1 = [1, 15, 20, 578, 799]\n",
        "print(\"Media: \",np.mean(s),\"\\nMediana: \", mediana(s))"
      ],
      "execution_count": null,
      "outputs": []
    },
    {
      "cell_type": "code",
      "metadata": {
        "id": "961Kuyo_Ivc_"
      },
      "source": [
        "#B\n",
        "import numpy as np\n",
        "\n",
        "def mediana(x):\n",
        "    x.sort()\n",
        "    n = len(x)\n",
        "    if n % 2 == 1:\n",
        "        return x[n // 2]\n",
        "    else:\n",
        "        return (x[n // 2 - 1] + x[n // 2]) / 2\n",
        "\n",
        "V2 = [10, 9, 17, 16, 15]\n",
        "print(\"Media: \",np.mean(V2),\"\\nMediana: \", mediana(V2))\n"
      ],
      "execution_count": null,
      "outputs": []
    },
    {
      "cell_type": "markdown",
      "metadata": {
        "id": "qKzJPIWHge9W"
      },
      "source": [
        "**5) Baseando-se no conjunto de dados criado na questão 4, crie uma função\n",
        "em Python que:**\n",
        "\n",
        "**a) Mostra o histograma de cada variável; (1 ponto)**\n",
        "\n",
        "**b) Verifica se as variáveis seguem uma distribuição Normal (use teste\n",
        "de hipótese) (1 ponto)**"
      ]
    },
    {
      "cell_type": "code",
      "metadata": {
        "id": "pdeAdRr-JlYt"
      },
      "source": [
        "#A\n",
        "import seaborn as sns\n",
        "V1 = [1, 15, 20, 578, 799]\n",
        "\n",
        "sns.displot(V1)"
      ],
      "execution_count": null,
      "outputs": []
    },
    {
      "cell_type": "code",
      "metadata": {
        "id": "KAFfOlrrJ6aK"
      },
      "source": [
        "#A\n",
        "import seaborn as sns\n",
        "V2 = [10, 9, 17, 16, 15]\n",
        "\n",
        "sns.displot(V2)"
      ],
      "execution_count": null,
      "outputs": []
    },
    {
      "cell_type": "code",
      "metadata": {
        "id": "4E8EzMcHO7k7"
      },
      "source": [
        "#B\n",
        "import numpy as np\n",
        "import matplotlib.pyplot as plt\n",
        "import seaborn as sns\n",
        "import math\n",
        "\n",
        "V1 = [1, 15, 20, 578, 799]\n",
        "\n",
        "mediaV1 = np.mean(V1)\n",
        "sigma = 0.1\n",
        "\n",
        "s = np.random.normal(mediaV1, sigma, 1000)\n",
        "sns.histplot(s)"
      ],
      "execution_count": null,
      "outputs": []
    },
    {
      "cell_type": "code",
      "metadata": {
        "id": "1dMtpFkFgyG0"
      },
      "source": [
        "#B\n",
        "import numpy as np\n",
        "import matplotlib.pyplot as plt\n",
        "import seaborn as sns\n",
        "import math\n",
        "\n",
        "V2 = [10, 9, 17, 16, 15]\n",
        "\n",
        "mediaV2 = np.mean(V2)\n",
        "sigma = 0.1\n",
        "\n",
        "s = np.random.normal(mediaV2, sigma, 1000)\n",
        "sns.histplot(s)"
      ],
      "execution_count": null,
      "outputs": []
    },
    {
      "cell_type": "markdown",
      "metadata": {
        "id": "eP2RTD7umrgD"
      },
      "source": [
        "**6) Cite 2 técnicas para remoção de ruídos e, para cada uma, mostre uma\n",
        "vantagem e uma desvantagem. (1 ponto)**\n",
        "\n",
        "Preencher os dados faltantes de acordo com probabilidades: Preencher o dado faltante da tupla com o valor mais provável de aparecer, fazendo o uso de regressão, ferramentas baseadas em inferência, indução por árvore de decisão. É uma vantagem pois se automatisa o processo, a desvantagens é que pode ser uma técnica computacionalmente custosa.\n",
        "\n",
        "Regressão: estabelecendo uma função de regressão, onde pode-se eliminar os dados que estiverem muito discrepantes da reta de regressão, uma desvantagem é que precisa estabelecer uma função de regressão que faça mais sentido possível em relação aos dados que está sendo tratado, para não fazer a eliminação de forma errada. Uma vantagem dessa técnica é a visualização dos dados no gráfico, onde fica mais evidente os dados discrepantes.\n"
      ]
    },
    {
      "cell_type": "markdown",
      "metadata": {
        "id": "VhTImsTUJqVA"
      },
      "source": [
        "**7) Qual é a importância de utilizar as seguintes abordagens de redução de dados no contexto de Ciência dos Dados?**\n",
        "\n",
        "**a) Redução de dimensionalidade (0,5 ponto)**\n",
        "\n",
        "Deixa os dados mais simples sem perder muita informação, é importante para que melhore a interpretação dos dados reduzindo o número de variáveis ou colunas.\n",
        "\n",
        "**b) Redução de numerosidade (0,5 ponto)**\n",
        "\n",
        "Se os dados são enorme, pode se reduzir o número de tuplas ou linhas, dessa forma reduzindo o tempo de processamento."
      ]
    },
    {
      "cell_type": "markdown",
      "metadata": {
        "id": "dA07ut3vbnST"
      },
      "source": [
        "**8) De que forma pode-se detectar overfitting em um classificador? (0,5\n",
        "ponto)**\n",
        "\n",
        "Este problema ocorre quando nos dados de treino tem um desempenho bom, porém quando utilizamos os dados de teste o desempenho é ruim. Dessa forma, os dados de treino apenas decorou o que deveria fazer.\n"
      ]
    },
    {
      "cell_type": "markdown",
      "metadata": {
        "id": "ovQtCYcp3WUV"
      },
      "source": [
        "**9) Em quais tipos de problemas é preferível utilizar leave-one-out a utilizar K-fold cross-validation? (0,5 ponto)**\n",
        "\n",
        "Quando se tem um conjunto de dados pequenos é preferível utilizar leave-one-out, onde vai ter uma melhor estimativa de desenpenho. Nesse caso treinamento é realizado  com  n-1  dados e o teste com 1 dos registros.\n"
      ]
    },
    {
      "cell_type": "markdown",
      "metadata": {
        "id": "H5szxu5fCZBe"
      },
      "source": [
        "**10) Crie um script em Python que avalie a diferença de desempenho do\n",
        "classificador K-NN para o conjunto de dados Iris\n",
        "(https://archive.ics.uci.edu/ml/datasets/iris). Use F-measure e K-fold\n",
        "cross-validation. (2 pontos)**"
      ]
    },
    {
      "cell_type": "code",
      "metadata": {
        "id": "s8j9P_JYUrcb"
      },
      "source": [
        "import pandas as pd\n",
        "from sklearn.neighbors import KNeighborsClassifier\n",
        "from sklearn.model_selection import cross_val_score\n",
        "from sklearn.metrics import f1_score\n",
        "\n",
        "nomes = ['SepalLength', 'SepalWidth', 'PetalLength', 'PetalWidth', 'Class']\n",
        "df = pd.read_csv('iris.data', names = nomes)\n",
        "\n",
        "X = df[df.columns.difference(['Class'])].values\n",
        "y = df['Class'].values\n",
        "\n",
        "iris_classificador = KNeighborsClassifier(n_neighbors = 3)\n",
        "iris_classificador2 = KNeighborsClassifier(n_neighbors = 5)\n",
        "iris_classificador3 = KNeighborsClassifier(n_neighbors = 10)\n",
        "iris_classificador.fit(X, y)\n",
        "iris_classificador2.fit(X, y)\n",
        "iris_classificador3.fit(X, y)\n",
        "\n",
        "scores_dt = cross_val_score(iris_classificador, X, y, scoring='accuracy', cv=5)\n",
        "print(\"Utilizando o K-fold cross-validation:\")\n",
        "print(scores_dt.mean())\n",
        "\n",
        "y_true = y\n",
        "y_pred = iris_classificador.predict(X)\n",
        "y_pred2 = iris_classificador2.predict(X)\n",
        "y_pred3 = iris_classificador3.predict(X)\n",
        "print(\"Utilizando o F-measure com 3:\")\n",
        "print(f1_score(y_true, y_pred, average='macro'))\n",
        "print(\"Utilizando o F-measure com 5:\")\n",
        "print(f1_score(y_true, y_pred2, average='macro'))\n",
        "print(\"Utilizando o F-measure com 10:\")\n",
        "print(f1_score(y_true, y_pred3, average='macro'))"
      ],
      "execution_count": null,
      "outputs": []
    }
  ]
}